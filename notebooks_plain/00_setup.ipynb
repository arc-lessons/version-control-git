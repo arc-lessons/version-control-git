{
 "cells": [
  {
   "cell_type": "markdown",
   "metadata": {
    "slideshow": {
     "slide_type": "slide"
    }
   },
   "source": [
    "# Opening a terminal in jupyterhub"
   ]
  },
  {
   "cell_type": "markdown",
   "metadata": {
    "slideshow": {
     "slide_type": "slide"
    }
   },
   "source": [
    "## Overview:\n",
    "\n",
    "- **Teaching:** 5 min\n",
    "- **Exercises:** 0 min\n",
    "\n",
    "**Questions**\n",
    "- Where can I run the shell?\n",
    "- What are Jupyterhub and notebooks?\n",
    "\n",
    "**Objectives**\n",
    "- Clone the library for use in this workshop\n",
    "- Launch the library and open a terminal on notebooks\n",
    "- Explain how putty/kitty/ssh allows you to login to remote machines.\n",
    "- Explain how to login to ‘linux.bath.ac.uk’ from University computers.\n",
    "- Explain that we use Xming in case we want to forward graphics."
   ]
  },
  {
   "cell_type": "markdown",
   "metadata": {
    "slideshow": {
     "slide_type": "slide"
    }
   },
   "source": [
    "This episode details how to get started on the Jupyterhub (normally used for notebooks) and accessing the terminal. This service runs a common Linux operating system with similar appearance to that found on MacOs and HPC services. You can access this service from any PC or laptop by launching a library on notebooks."
   ]
  },
  {
   "cell_type": "markdown",
   "metadata": {
    "slideshow": {
     "slide_type": "slide"
    }
   },
   "source": [
    "## Getting Started\n",
    "\n",
    "First we need to log-on to the server: https://rss.jupyterhub.bath.ac.uk, you should be redirected to use your University account via the Microsoft web login.  This should start a jupyterhub service running on the server and return you to a page that looks like:\n",
    "\n",
    "![Create new notebook](../images/jhub.png)"
   ]
  },
  {
   "cell_type": "markdown",
   "metadata": {
    "slideshow": {
     "slide_type": "slide"
    }
   },
   "source": [
    "Click on the new button and select terminal to luanch the terminalLinux session which we will use through the rest of the lesson. This should open a new tab that looks like:\n",
    "\n",
    "![terminal](../images/jhub-terminal.png)"
   ]
  },
  {
   "cell_type": "markdown",
   "metadata": {
    "slideshow": {
     "slide_type": "slide"
    }
   },
   "source": [
    "You are now ready to start the lesson.  Details of accessing the University service that run linux are below, it is useful to know as other courses may use it and if your research requires High Peformance Computing you will likely need to use a range of machines so it is useful to know how to access them."
   ]
  },
  {
   "cell_type": "markdown",
   "metadata": {
    "slideshow": {
     "slide_type": "slide"
    }
   },
   "source": [
    "## Aside\n",
    "\n",
    "Let's try logging on to the University linux service. If you are running on your own computer you can visit our [guide on how to login](https://arc-lessons.github.io/security/02_ssh.html).  Log-in to `linux.bath.ac.uk` with you University username and password as detailed in the guide.\n",
    "\n",
    "If you are using a University PC go to:\n",
    "\n",
    "- ‘Start’ → All Programs → Xming → linux\n",
    "\n",
    "This launches a program called ‘Kitty’ which will try to connect to the linux service. A window should open which looks like:\n",
    "\n",
    "![linux-login](../images/linux-login.png)"
   ]
  },
  {
   "cell_type": "markdown",
   "metadata": {
    "slideshow": {
     "slide_type": "slide"
    }
   },
   "source": [
    "Type your user name and you should be prompted for a password:\n",
    "\n",
    "![linux-password](../images/linux-password.png)"
   ]
  },
  {
   "cell_type": "markdown",
   "metadata": {
    "slideshow": {
     "slide_type": "slide"
    }
   },
   "source": [
    "## Information: Passwords in linux\n",
    "\n",
    "When you type your password no ‘*s’ will appear. This is not a mistake, in linux the password typically remains hidden.\n",
    "\n",
    "Think why this might improve security."
   ]
  },
  {
   "cell_type": "markdown",
   "metadata": {
    "slideshow": {
     "slide_type": "slide"
    }
   },
   "source": [
    "If you have successfully logged on, the window should now look something like this:\n",
    "\n",
    "![linux-success](../images/linux-success.png)"
   ]
  },
  {
   "cell_type": "markdown",
   "metadata": {
    "slideshow": {
     "slide_type": "slide"
    }
   },
   "source": [
    "You should be able to see your username followed by @linux or similar. On ‘linux.bath’ this is the name of the machine that you have logged onto. Since a number of machines make up the service what you see may be slightly different.\n",
    "\n",
    "Kitty is a derivative of another tool Putty which can has similar functionality, both use a service called ssh to connect to the linux service. This may be referred to as a shell, terminal, command line session. We use Xming since this also allows grapchics to be forwarded over the ssh connection, but this may not form part of your course."
   ]
  },
  {
   "cell_type": "markdown",
   "metadata": {
    "slideshow": {
     "slide_type": "slide"
    }
   },
   "source": [
    "## Key Points:\n",
    "\n",
    "- Jupyter notebooks are a really useful platform for exploring code and sharing reproducible research\n",
    "- We use them because they are a convenient platform for delivery training and have a Linux terminal\n",
    "- The University runs the ‘linux.bath’ service to provide a general use Linux machine\n",
    "- ‘linux.bath’ provides certain academic software for students and staff\n",
    "- The service is a shared machine designed for lightweight use\n",
    "- For heavy workloads you should investigate using the Unviersity’s HPC service"
   ]
  }
 ],
 "metadata": {
  "celltoolbar": "Slideshow",
  "kernelspec": {
   "display_name": "Python 3",
   "language": "python",
   "name": "python3"
  },
  "language_info": {
   "codemirror_mode": {
    "name": "ipython",
    "version": 3
   },
   "file_extension": ".py",
   "mimetype": "text/x-python",
   "name": "python",
   "nbconvert_exporter": "python",
   "pygments_lexer": "ipython3",
   "version": "3.7.4"
  }
 },
 "nbformat": 4,
 "nbformat_minor": 2
}
