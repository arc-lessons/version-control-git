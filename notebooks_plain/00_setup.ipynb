{
  "cells": [
    {
      "metadata": {
        "slideshow": {
          "slide_type": "slide"
        }
      },
      "cell_type": "markdown",
      "source": "# Setup\n\nWe will be using [notebooks.azure.com](https://notebooks.azure.com) for this lesson.  Log-in with your University email account and clone the [library](https://notebooks.azure.com/jgrant/projects/intro-python) we will need:\n\n![Clone python library](../images/notebooks_clone_git.png)"
    },
    {
      "metadata": {
        "slideshow": {
          "slide_type": "slide"
        }
      },
      "cell_type": "markdown",
      "source": "If you see 'Sign In' in the top right corner you have not yet logged in and won't be able to clone.  Once you have successfully cloned the library you need to start a terminal session:\n\n![Start server](../images/notebooks_terminal_git.png)"
    },
    {
      "metadata": {
        "slideshow": {
          "slide_type": "slide"
        }
      },
      "cell_type": "markdown",
      "source": "We’ll do our work in the library directory, in subdirectories in a new git-workspace folder so you will need to change your working directory to it with:\n\n```bash\n% cd library\n% mkdir git-workspace\n% cd git-workspace\n```"
    },
    {
      "metadata": {
        "slideshow": {
          "slide_type": "subslide"
        }
      },
      "cell_type": "markdown",
      "source": "You are now ready to begin the lesson proper.  Scroll down to the bottom of the page and click **Next**."
    },
    {
      "metadata": {
        "slideshow": {
          "slide_type": "slide"
        }
      },
      "cell_type": "markdown",
      "source": "## Alternative Setup\n\nIf you don't want to use notebooks.azure.com you need to do a little bit more preparation for this lesson, you will need to download two zipped files and place them in the specified folder.  The following instructions are intended for use on the `linux.bath`, if you are running on your own computer use your home directory in place of the `H-drive`.\n\nOpen `linux.bath.ac.uk` through xming:\n\n- ‘Start’ → All Programs → Xming → linux\n\nWe’ll do our work in the library directory, in subdirectories in a new git-workspace folder so you will need to change your working directory to it with:\n\n```bash\n% cd \n% mkdir git-workspace\n% cd git-workspace\n```"
    }
  ],
  "metadata": {
    "celltoolbar": "Slideshow",
    "kernelspec": {
      "name": "python3",
      "display_name": "Python 3",
      "language": "python"
    },
    "language_info": {
      "mimetype": "text/x-python",
      "nbconvert_exporter": "python",
      "name": "python",
      "file_extension": ".py",
      "version": "3.5.4",
      "pygments_lexer": "ipython3",
      "codemirror_mode": {
        "version": 3,
        "name": "ipython"
      }
    }
  },
  "nbformat": 4,
  "nbformat_minor": 2
}