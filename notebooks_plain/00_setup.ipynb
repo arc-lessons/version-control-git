{
 "cells": [
  {
   "cell_type": "markdown",
   "metadata": {
    "slideshow": {
     "slide_type": "slide"
    }
   },
   "source": [
    "# Setup\n",
    "\n",
    "We will be using [notebooks.azure.com](https://notebooks.azure.com) for this lesson.  Log-in with your University email account and clone the [library](https://notebooks.azure.com/jgrant/projects/version-control-git) we will need:\n",
    "\n",
    "![Clone python library](../images/notebooks_clone_git.png)"
   ]
  },
  {
   "cell_type": "markdown",
   "metadata": {
    "slideshow": {
     "slide_type": "slide"
    }
   },
   "source": [
    "If you see 'Sign In' in the top right corner you have not yet logged in and won't be able to clone.  Once you have successfully cloned the library you need to start a terminal session:\n",
    "\n",
    "![Start server](../images/notebooks_terminal_git.png)"
   ]
  },
  {
   "cell_type": "markdown",
   "metadata": {
    "slideshow": {
     "slide_type": "slide"
    }
   },
   "source": [
    "We’ll do our work in the library directory, in subdirectories in a new git-workspace folder so you will need to change your working directory to it with:\n",
    "\n",
    "```bash\n",
    "% cd library\n",
    "% mkdir git-workspace\n",
    "% cd git-workspace\n",
    "```"
   ]
  },
  {
   "cell_type": "markdown",
   "metadata": {
    "slideshow": {
     "slide_type": "subslide"
    }
   },
   "source": [
    "You are now ready to begin the lesson proper.  Scroll down to the bottom of the page and click **Next**."
   ]
  },
  {
   "cell_type": "markdown",
   "metadata": {
    "slideshow": {
     "slide_type": "slide"
    }
   },
   "source": [
    "## Alternative Setup\n",
    "\n",
    "If you don't want to use notebooks.azure.com you need to do a little bit more preparation for this lesson, you will need to download two zipped files and place them in the specified folder.  The following instructions are intended for use on the `linux.bath`, if you are running on your own computer use your home directory in place of the `H-drive`.\n",
    "\n",
    "Open `linux.bath.ac.uk` through xming:\n",
    "\n",
    "- ‘Start’ → All Programs → Xming → linux\n",
    "\n",
    "We’ll do our work in the library directory, in subdirectories in a new git-workspace folder so you will need to change your working directory to it with:\n",
    "\n",
    "```bash\n",
    "% cd \n",
    "% mkdir git-workspace\n",
    "% cd git-workspace\n",
    "```"
   ]
  }
 ],
 "metadata": {
  "celltoolbar": "Slideshow",
  "kernelspec": {
   "display_name": "Python 3",
   "language": "python",
   "name": "python3"
  },
  "language_info": {
   "codemirror_mode": {
    "name": "ipython",
    "version": 3
   },
   "file_extension": ".py",
   "mimetype": "text/x-python",
   "name": "python",
   "nbconvert_exporter": "python",
   "pygments_lexer": "ipython3",
   "version": "3.7.3"
  }
 },
 "nbformat": 4,
 "nbformat_minor": 2
}
