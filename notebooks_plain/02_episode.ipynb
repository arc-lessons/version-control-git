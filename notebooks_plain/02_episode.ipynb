{
  "cells": [
    {
      "metadata": {
        "slideshow": {
          "slide_type": "slide"
        }
      },
      "cell_type": "markdown",
      "source": "# Setting Up Git"
    },
    {
      "metadata": {
        "slideshow": {
          "slide_type": "slide"
        }
      },
      "cell_type": "markdown",
      "source": "## Overview\n- **Teaching:** 5 min\n- **Exercises:** 0 min\n\n**Questions**\n- How do I get set up to use Git?\n\n**Objectives**\n- Configure git the first time it is used on a computer.\n- Understand the meaning of the --global configuration flag."
    },
    {
      "metadata": {},
      "cell_type": "markdown",
      "source": "First you will need to launch a terminal, e.g. see setup.  For the purposes of this lesson, if you are running on notebooks.azure.com we will work in the library folder, so before doing anything else we need to change directory:\n\n```bash\n% cd library\n```\n\nIf you using git on another platform then this is **not** necessary."
    },
    {
      "metadata": {
        "slideshow": {
          "slide_type": "slide"
        }
      },
      "cell_type": "markdown",
      "source": "## Configure your git\n\nWhen we use Git on a new computer for the first time, we need to configure a few things. Below are a few examples of configurations we will set as we get started with Git:\n\n- our name and email address,\n- to colorize our output,\n- what our preferred text editor is,\n- and that we want to use these settings globally (i.e. for every project)\n\nOn a command line, Git commands are written as git verb, where verb is what we actually want to do. So here is how Dracula sets up his new laptop:"
    },
    {
      "metadata": {},
      "cell_type": "markdown",
      "source": "```bash\n% git config --global user.name \"Vlad Dracula\"\n% git config --global user.email \"vlad@tran.sylvan.ia\"\n% git config --global color.ui \"auto\"\n```"
    },
    {
      "metadata": {},
      "cell_type": "markdown",
      "source": "Please use your own name and email address instead of Dracula’s. This user name and email will be associated with your subsequent Git activity, which means that any changes pushed to GitHub, BitBucket, GitLab or another Git host server in a later lesson will include this information."
    },
    {
      "metadata": {
        "slideshow": {
          "slide_type": "slide"
        }
      },
      "cell_type": "markdown",
      "source": "## Pin: Line Endings\n\nAs with other keys, when you hit the ‘return’ key on your keyboard, your computer encodes this input. For reasons that are long to explain, different operating systems use different character(s) to represent the end of a line. (You may also hear these referred to as newlines or line breaks.) Because git uses these characters to compare files, it may cause unexpected issues when editing a file on different machines.\n\nYou can change the way git recognizes and encodes line endings using the core.autocrlf command to git config. The following settings are recommended:\n\nOn OS X and Linux:\n\n```bash\n% git config --global core.autocrlf input\n```\n\nAnd on Windows:\n\n```bash\n% git config --global core.autocrlf true\n```\n\nYou can read more about this issue on this [GitHub page](https://help.github.com/articles/dealing-with-line-endings/)."
    },
    {
      "metadata": {
        "slideshow": {
          "slide_type": "slide"
        }
      },
      "cell_type": "markdown",
      "source": "For these lessons, we will be interacting with [GitHub](https://github.com/) and so the email address used should be the same as the one used when setting up your GitHub account. If you are concerned about privacy, please review [GitHub’s instructions for keeping your email address private](https://help.github.com/articles/keeping-your-email-address-private/). If you elect to use a private email address with GitHub, then use that same email address for the `user.email` value, e.g. `username@users.noreply.github.com` replacing `username` with your GitHub one. You can change the email address later on by using the git config command again.\n\nDracula also has to set his favorite text editor, following this table:"
    },
    {
      "metadata": {
        "slideshow": {
          "slide_type": "slide"
        }
      },
      "cell_type": "markdown",
      "source": "\n| **Editor** | **Configuration command** |\n|---|---|\n| Atom | % git config --global core.editor \"atom --wait\" |\n| **nano** | **% git config --global core.editor \"nano -w\"** |\n| BBEdit (Mac, with command line tools) | % git config --global core.editor \"bbedit -w\" |\n| Sublime Text (Mac) | % git config --global core.editor \"subl -n -w\" |\n| Sublime Text (Win, 32-bit install) | % git config --global core.editor \"'c:/program files (x86)/sublime text 3/sublime_text.exe' -w\" |\n| Sublime Text (Win, 64-bit install) | % git config --global core.editor \"'c:/program files/sublime text 3/sublime_text.exe' -w\" |\n| Notepad++ (Win, 32-bit install) | % git config --global core.editor \"'c:/program files (x86)/Notepad++/notepad++.exe' -multiInst -notabbar -nosession -noPlugin\" |\n| Notepad++ (Win, 64-bit install) | % git config --global core.editor \"'c:/program files/Notepad++/notepad++.exe' -multiInst -notabbar -nosession -noPlugin\" |\n| Kate (Linux) | % git config --global core.editor \"kate\" |\n| Gedit (Linux) | % git config --global core.editor \"gedit --wait --new-window\" |\n| Scratch (Linux) | % git config --global core.editor \"scratch-text-editor\" |\n| emacs | % git config --global core.editor \"emacs\" |\n| vim | % git config --global core.editor \"vim\" |\n\nIt is possible to reconfigure the text editor for Git whenever you want to change it."
    },
    {
      "metadata": {
        "slideshow": {
          "slide_type": "slide"
        }
      },
      "cell_type": "markdown",
      "source": "The four commands we just ran above only need to be run once: the flag --global tells Git to use the settings for every project, in your user account, on this computer.\n\nYou can check your settings at any time:"
    },
    {
      "metadata": {
        "slideshow": {
          "slide_type": "slide"
        },
        "trusted": false
      },
      "cell_type": "code",
      "source": "%%bash2 --dir ~\ngit config --list",
      "execution_count": 1,
      "outputs": [
        {
          "name": "stdout",
          "output_type": "stream",
          "text": "user.name=James Grant\nuser.email=r.j.grant@bath.ac.uk\nmerge.tool=kdiff3\ndiff.guitool=kdiff3\ncore.editor=nano -w\ncore.autocrlf=true\ncolor.ui=auto\n"
        }
      ]
    },
    {
      "metadata": {
        "slideshow": {
          "slide_type": "slide"
        }
      },
      "cell_type": "markdown",
      "source": "## Pin: Git Help and Manual\n\nAlways remember that if you forget a `git` command, you can access the list of commands by using `-h` and access the Git manual by using `--help`:\n\n```bash\n% git config -h\n% git config --help\n```\n\nAdditionally [online manual pages](https://git-scm.com) or [Stack Overflow](https://stackoverflow.com) are excellent resources."
    },
    {
      "metadata": {
        "slideshow": {
          "slide_type": "slide"
        }
      },
      "cell_type": "markdown",
      "source": "## Key Points\n- Use `git config` to configure a user name, email address, editor, and other preferences once per machine."
    }
  ],
  "metadata": {
    "celltoolbar": "Slideshow",
    "kernelspec": {
      "name": "python3",
      "display_name": "Python 3",
      "language": "python"
    },
    "language_info": {
      "mimetype": "text/x-python",
      "nbconvert_exporter": "python",
      "name": "python",
      "pygments_lexer": "ipython3",
      "version": "3.5.4",
      "file_extension": ".py",
      "codemirror_mode": {
        "version": 3,
        "name": "ipython"
      }
    }
  },
  "nbformat": 4,
  "nbformat_minor": 2
}