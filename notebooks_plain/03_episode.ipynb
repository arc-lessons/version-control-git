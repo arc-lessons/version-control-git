{
  "cells": [
    {
      "metadata": {
        "slideshow": {
          "slide_type": "slide"
        }
      },
      "cell_type": "markdown",
      "source": "# Creating a Repository"
    },
    {
      "metadata": {
        "slideshow": {
          "slide_type": "slide"
        }
      },
      "cell_type": "markdown",
      "source": "## Overview\n- **Teaching:** 10 min\n- **Exercises:** 0 min\n\n**Questions**\n- Where does Git store information?\n\n**Objectives**\n- Create a local Git repository."
    },
    {
      "metadata": {
        "slideshow": {
          "slide_type": "slide"
        }
      },
      "cell_type": "markdown",
      "source": "Once Git is configured, we can start using it. Let’s create a directory for our work and then move into that directory:\n\n```bash\n% mkdir planets\n% cd planets\n```"
    },
    {
      "metadata": {
        "slideshow": {
          "slide_type": "slide"
        }
      },
      "cell_type": "markdown",
      "source": "Then we tell Git to make planets a repository—a place where Git can store versions of our files:\n\n```bash\n% git init\n```"
    },
    {
      "metadata": {
        "slideshow": {
          "slide_type": "slide"
        }
      },
      "cell_type": "markdown",
      "source": "If we use `ls` to show the directory’s contents, it appears that nothing has changed:\n\n```bash\n% ls\n```"
    },
    {
      "metadata": {
        "slideshow": {
          "slide_type": "slide"
        }
      },
      "cell_type": "markdown",
      "source": "Initialising our repository apparently did nothing, but if we add the -a flag to show everything, we can see that Git has created a hidden directory within planets called .git:\n\n```bash\n% ls -a\n.   ..  .git\n```"
    },
    {
      "metadata": {
        "slideshow": {
          "slide_type": "slide"
        }
      },
      "cell_type": "markdown",
      "source": "Git stores information about the project in this special sub-directory. If we ever delete it, we will lose the project’s history.\n\nWe can check that everything is set up correctly by asking Git to tell us the status of our project:\n\n```bash\n% git status\n# On branch master\n#\n# Initial commit\n#\nnothing to commit (create/copy files and use \"git add\" to track)\n```\n\nIf you are using a different version of git than I am, then the exact wording of the output might be slightly different."
    },
    {
      "metadata": {
        "slideshow": {
          "slide_type": "slide"
        }
      },
      "cell_type": "markdown",
      "source": "## Pen: When and where to create git repositories\n\nDracula starts a new project, `moons`, related to his `planets` project. Despite Wolfman’s concerns, he enters the following sequence of commands to create one Git repository inside another:\n\n```bash\n% cd             # return to home directory\n% mkdir planets  # make a new directory planets\n% cd planets     # go into planets\n% git init       # make the planets directory a Git repository\n% mkdir moons    # make a sub-directory planets/moons\n% cd moons       # go into planets/moons\n% git init       # make the moons sub-directory a Git repository\n```\n\nWhy is it a bad idea to do this?"
    },
    {
      "metadata": {
        "slideshow": {
          "slide_type": "slide"
        }
      },
      "cell_type": "markdown",
      "source": "## Information: Keep repositories separate\n\n\nNotice here that the planets project is now also tracking the entire moons repository.\n\nGit repositories can interfere with each other if they are “nested” in the directory of another: the outer repository will try to version-control the inner repository. Therefore, it’s best to create each new Git repository in a separate directory. To be sure that there is no conflicting repository in the directory, check the output of `git status`. If it looks like the following, you are good to go to create a new repository as shown above:\n\n```bash\n% git status\n```\n```brainfuck\nfatal: Not a git repository (or any of the parent directories): .git\n```\n\nTo recover from this little mistake, Dracula can just remove the .git folder in the moons subdirectory. To do so he can run the following command from inside the ‘moons’ directory:\n\n```bash\n% rm -rf moons/.git\n```\n\nBut be careful! Running this command in the wrong directory, will remove the entire git-history of a project you might wanted to keep. Therefore, always check your current directory using the command `pwd`."
    },
    {
      "metadata": {
        "slideshow": {
          "slide_type": "slide"
        }
      },
      "cell_type": "markdown",
      "source": "## Key Points\n- `git init` initializes a repository.\n- Keep `gits` separate"
    }
  ],
  "metadata": {
    "celltoolbar": "Slideshow",
    "kernelspec": {
      "name": "python3",
      "display_name": "Python 3",
      "language": "python"
    },
    "language_info": {
      "mimetype": "text/x-python",
      "nbconvert_exporter": "python",
      "name": "python",
      "pygments_lexer": "ipython3",
      "version": "3.5.4",
      "file_extension": ".py",
      "codemirror_mode": {
        "version": 3,
        "name": "ipython"
      }
    }
  },
  "nbformat": 4,
  "nbformat_minor": 2
}