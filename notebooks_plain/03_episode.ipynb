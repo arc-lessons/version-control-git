{
 "cells": [
  {
   "cell_type": "markdown",
   "metadata": {
    "slideshow": {
     "slide_type": "slide"
    }
   },
   "source": [
    "# Creating a Repository"
   ]
  },
  {
   "cell_type": "markdown",
   "metadata": {
    "slideshow": {
     "slide_type": "slide"
    }
   },
   "source": [
    "## Overview\n",
    "- **Teaching:** 10 min\n",
    "- **Exercises:** 0 min\n",
    "\n",
    "**Questions**\n",
    "- Where does Git store information?\n",
    "\n",
    "**Objectives**\n",
    "- Create a local Git repository."
   ]
  },
  {
   "cell_type": "markdown",
   "metadata": {
    "slideshow": {
     "slide_type": "slide"
    }
   },
   "source": [
    "Once Git is configured, we can start using it. Let’s create a directory for our work and then move into that directory:\n",
    "\n",
    "```bash\n",
    "% mkdir planets\n",
    "% cd planets\n",
    "```"
   ]
  },
  {
   "cell_type": "markdown",
   "metadata": {
    "slideshow": {
     "slide_type": "slide"
    }
   },
   "source": [
    "Then we tell Git to make planets a repository—a place where Git can store versions of our files:\n",
    "\n",
    "```bash\n",
    "% git init\n",
    "```"
   ]
  },
  {
   "cell_type": "markdown",
   "metadata": {
    "slideshow": {
     "slide_type": "slide"
    }
   },
   "source": [
    "If we use `ls` to show the directory’s contents, it appears that nothing has changed:\n",
    "\n",
    "```bash\n",
    "% ls\n",
    "```"
   ]
  },
  {
   "cell_type": "markdown",
   "metadata": {
    "slideshow": {
     "slide_type": "slide"
    }
   },
   "source": [
    "Initialising our repository apparently did nothing, but if we add the -a flag to show everything, we can see that Git has created a hidden directory within planets called .git:\n",
    "\n",
    "```bash\n",
    "% ls -a\n",
    ".   ..  .git\n",
    "```"
   ]
  },
  {
   "cell_type": "markdown",
   "metadata": {
    "slideshow": {
     "slide_type": "slide"
    }
   },
   "source": [
    "Git stores information about the project in this special sub-directory. If we ever delete it, we will lose the project’s history.\n",
    "\n",
    "We can check that everything is set up correctly by asking Git to tell us the status of our project:\n",
    "\n",
    "```bash\n",
    "% git status\n",
    "# On branch master\n",
    "#\n",
    "# Initial commit\n",
    "#\n",
    "nothing to commit (create/copy files and use \"git add\" to track)\n",
    "```\n",
    "\n",
    "If you are using a different version of git than I am, then the exact wording of the output might be slightly different."
   ]
  },
  {
   "cell_type": "markdown",
   "metadata": {
    "slideshow": {
     "slide_type": "slide"
    }
   },
   "source": [
    "## Pen: When and where to create git repositories\n",
    "\n",
    "Dracula starts a new project, `moons`, related to his `planets` project. Despite Wolfman’s concerns, he enters the following sequence of commands to create one Git repository inside another:\n",
    "\n",
    "```bash\n",
    "% cd             # return to home directory\n",
    "% mkdir planets  # make a new directory planets\n",
    "% cd planets     # go into planets\n",
    "% git init       # make the planets directory a Git repository\n",
    "% mkdir moons    # make a sub-directory planets/moons\n",
    "% cd moons       # go into planets/moons\n",
    "% git init       # make the moons sub-directory a Git repository\n",
    "```\n",
    "\n",
    "Why is it a bad idea to do this?"
   ]
  },
  {
   "cell_type": "markdown",
   "metadata": {
    "slideshow": {
     "slide_type": "slide"
    }
   },
   "source": [
    "## Information: Keep repositories separate\n",
    "\n",
    "\n",
    "Notice here that the planets project is now also tracking the entire moons repository.\n",
    "\n",
    "Git repositories can interfere with each other if they are “nested” in the directory of another: the outer repository will try to version-control the inner repository. Therefore, it’s best to create each new Git repository in a separate directory. To be sure that there is no conflicting repository in the directory, check the output of `git status`. If it looks like the following, you are good to go to create a new repository as shown above:\n",
    "\n",
    "```bash\n",
    "% git status\n",
    "```\n",
    "```brainfuck\n",
    "fatal: Not a git repository (or any of the parent directories): .git\n",
    "```\n",
    "\n",
    "To recover from this little mistake, Dracula can just remove the .git folder in the moons subdirectory. To do so he can run the following command from inside the ‘moons’ directory:\n",
    "\n",
    "```bash\n",
    "% rm -rf moons/.git\n",
    "```\n",
    "\n",
    "But be careful! Running this command in the wrong directory, will remove the entire git-history of a project you might wanted to keep. Therefore, always check your current directory using the command `pwd`."
   ]
  },
  {
   "cell_type": "markdown",
   "metadata": {
    "slideshow": {
     "slide_type": "slide"
    }
   },
   "source": [
    "## Key Points\n",
    "- `git init` initializes a repository.\n",
    "- Keep `gits` separate"
   ]
  }
 ],
 "metadata": {
  "celltoolbar": "Slideshow",
  "kernelspec": {
   "display_name": "Python 3",
   "language": "python",
   "name": "python3"
  },
  "language_info": {
   "codemirror_mode": {
    "name": "ipython",
    "version": 3
   },
   "file_extension": ".py",
   "mimetype": "text/x-python",
   "name": "python",
   "nbconvert_exporter": "python",
   "pygments_lexer": "ipython3",
   "version": "3.7.4"
  }
 },
 "nbformat": 4,
 "nbformat_minor": 2
}
