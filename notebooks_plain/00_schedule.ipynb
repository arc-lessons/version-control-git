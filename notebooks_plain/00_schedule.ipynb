{
 "cells": [
  {
   "cell_type": "markdown",
   "metadata": {
    "slideshow": {
     "slide_type": "slide"
    }
   },
   "source": [
    "# Version Control with Git"
   ]
  },
  {
   "cell_type": "markdown",
   "metadata": {
    "slideshow": {
     "slide_type": "slide"
    }
   },
   "source": [
    "Wolfman and Dracula have been hired by Universal Missions (a space services spinoff from Euphoric State University) to investigate if it is possible to send their next planetary lander to Mars. They want to be able to work on the plans at the same time, but they have run into problems doing this in the past. If they take turns, each one will spend a lot of time waiting for the other to finish, but if they work on their own copies and email changes back and forth things will be lost, overwritten, or duplicated.\n",
    "\n",
    "A colleague suggests using **version control** to manage their work. Version control is better than mailing files back and forth:\n",
    "\n",
    "- Nothing that is committed to version control is ever lost, unless you work really, really hard at it. Since all old versions of files are saved, it’s always possible to go back in time to see exactly who wrote what on a particular day, or what version of a program was used to generate a particular set of results.\n",
    "\n",
    "- As we have this record of who made what changes when, we know who to ask if we have questions later on, and, if needed, revert to a previous version, much like the “undo” feature in an editor.\n",
    "\n",
    "- When several people collaborate in the same project, it’s possible to accidentally overlook or overwrite someone’s changes. The version control system automatically notifies users whenever there’s a conflict between one person’s work and another’s.\n",
    "\n",
    "Teams are not the only ones to benefit from version control: lone researchers can benefit immensely. Keeping a record of what was changed, when, and why is extremely useful for all researchers if they ever need to come back to the project later on (e.g., a year later, when memory has faded).\n",
    "\n",
    "Version control is the lab notebook of the digital world: it’s what professionals use to keep track of what they’ve done and to collaborate with other people. Every large software development project relies on it, and most programmers use it for their small jobs as well. And it isn’t just for software: books, papers, small data sets, and anything that changes over time or needs to be shared can and should be stored in a version control system."
   ]
  },
  {
   "cell_type": "markdown",
   "metadata": {
    "slideshow": {
     "slide_type": "slide"
    }
   },
   "source": [
    "## Prerequisites\n",
    "\n",
    "In order to complete the tutorial you should be familiar with:\n",
    "* The linux command line"
   ]
  },
  {
   "cell_type": "markdown",
   "metadata": {
    "slideshow": {
     "slide_type": "slide"
    }
   },
   "source": [
    "## Schedule\n",
    "Approximate timings for the lesson:\n",
    "\n",
    "| Time | Episode | Description |\n",
    "|---|---|---|\n",
    "| -:-- | [Setup](./00_setup.ipynb) | Setup for the lesson |\n",
    "| 0:00 | [Automated Version Control](./01_episode.ipynb) | What is version control and why should I use it? |\n",
    "| 0:05 | [Setting Up Git](./02_episode.ipynb) | How do I get set up to use Git? |\n",
    "| 0:10 | [Creating a Repository](./03_episode.ipynb) | Where does Git store information? |\n",
    "| 0:20 | [Tracking Changes](./04_episode.ipynb) | How do I record changes in Git? |\n",
    "|  -  |        -                            | How do I check the status of my version control repository? |\n",
    "|  -  |        -                            | How do I record notes about what changes I made and why? |\n",
    "| 0:40 | [Exploring History](./05_episode.ipynb) | How can I identify old versions of files? \n",
    "|  -  |        -                            | How do I review my changes? |\n",
    "|  -  |        -                            | How can I recover old versions of files? |\n",
    "| 1:05 | [Changing History](./06_episode.ipynb) | How can I move and delete files |\n",
    "| -    |       -                                | How can I recover old states of the repository |\n",
    "| 1:25 | [Ignoring Things](./07_episode.ipynb) | How can I tell Git to ignore files I don’t want to track? |\n",
    "| 1:30 | [Remotes in GitHub](./08_episode.ipynb) | How do I share my changes with others on the web? |\n",
    "| 2:00 | [Collaborating](./09_episode.ipynb) | How can I use version control to collaborate with other people? |\n",
    "| 2:25 | [Conflicts](./10_episode.ipynb) | What do I do when my changes conflict with someone else’s? |\n",
    "| 2:40 | [Open Science](./11_episode.ipynb) | How can version control help me make my work more open? |"
   ]
  }
 ],
 "metadata": {
  "celltoolbar": "Slideshow",
  "kernelspec": {
   "display_name": "Python 3",
   "language": "python",
   "name": "python3"
  },
  "language_info": {
   "codemirror_mode": {
    "name": "ipython",
    "version": 3
   },
   "file_extension": ".py",
   "mimetype": "text/x-python",
   "name": "python",
   "nbconvert_exporter": "python",
   "pygments_lexer": "ipython3",
   "version": "3.7.3"
  }
 },
 "nbformat": 4,
 "nbformat_minor": 2
}
